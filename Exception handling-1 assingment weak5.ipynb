{
 "cells": [
  {
   "cell_type": "markdown",
   "id": "b12867b9-1b67-4fc1-9171-65781497da89",
   "metadata": {},
   "source": [
    "Q1. What  is an Exception in python? Write the difference between Exception and Syntax errors."
   ]
  },
  {
   "cell_type": "markdown",
   "id": "324e3130-e34b-41f8-bc85-b33f1efcc291",
   "metadata": {},
   "source": [
    "ANS:-- EXCEPTION :--An exception is an event, which occurs during the execution of a program that disrupts the normal flow of the program's instructions. In general, when a Python script encounters a situation that it cannot cope with, it raises an exception. An exception is a Python object that represents an error.\n",
    "\n",
    "\n",
    "DEFFERENCE BETWEEN EXCEPTION AND SYNTAX ERRORS :---An error is an issue in a program that prevents the program from completing its task. In comparison, an exception is a condition that interrupts the normal flow of the program. Both errors and exceptions are a type of runtime error, which means they occur during the execution of a program.\n"
   ]
  },
  {
   "cell_type": "markdown",
   "id": "d34f9095-1267-4ff7-a3cc-42e8a6c17f7e",
   "metadata": {},
   "source": [
    "Q2.  What happens when an exception is not  handled ? Explain with  an example ."
   ]
  },
  {
   "cell_type": "markdown",
   "id": "7032e787-8324-4e03-a400-d691aae56ab0",
   "metadata": {},
   "source": [
    "ANS:--If an exception is not caught (with a catch block), the runtime system will abort the program (i.e. crash) and an exception message will print to the console ."
   ]
  },
  {
   "cell_type": "code",
   "execution_count": 4,
   "id": "6b7d5aba-a80b-45e8-88d4-1e2ac5a14f6a",
   "metadata": {},
   "outputs": [
    {
     "name": "stdout",
     "output_type": "stream",
     "text": [
      "10 is not divisible by 0\n"
     ]
    }
   ],
   "source": [
    "try:\n",
    "    10/0\n",
    "except Exception as e:\n",
    "    print('10 is not divisible by 0')"
   ]
  },
  {
   "cell_type": "markdown",
   "id": "94cb6410-1c66-41ce-8609-ac91940f29f2",
   "metadata": {},
   "source": [
    "Q3. Which python statements are used to catch and handle exception ? Exxplain with an example."
   ]
  },
  {
   "cell_type": "markdown",
   "id": "27eedbb5-a3f3-4db0-b7f3-0d5ef796a394",
   "metadata": {},
   "source": [
    "ANS:-- \n",
    "The try and except block in Python is used to catch and handle exceptions. Python executes code following the try statement as a “normal” part of the program. The code that follows the except statement is the program's response to any exceptions in the preceding try clause."
   ]
  },
  {
   "cell_type": "code",
   "execution_count": 5,
   "id": "870995b6-a295-47cf-9c60-8c38ad6cc5d2",
   "metadata": {},
   "outputs": [
    {
     "name": "stdout",
     "output_type": "stream",
     "text": [
      "this is valueerror and typeerror .\n"
     ]
    }
   ],
   "source": [
    "try:\n",
    "    int(\"name\")\n",
    "except:\n",
    "    print(\"this is valueerror and typeerror .\")"
   ]
  },
  {
   "cell_type": "markdown",
   "id": "7b884755-5d32-4f64-822a-55c77c012503",
   "metadata": {},
   "source": [
    "Q4. Explain with an example:\n",
    "\n",
    "    a. try and  else\n",
    "    b. finally\n",
    "    c.raise"
   ]
  },
  {
   "cell_type": "markdown",
   "id": "f4b0183b-6afc-4b72-ae59-9972ae23c368",
   "metadata": {},
   "source": [
    "try and else block :\n"
   ]
  },
  {
   "cell_type": "code",
   "execution_count": 7,
   "id": "8acab89d-bfdf-40df-9cf1-d995bb54ba8e",
   "metadata": {},
   "outputs": [
    {
     "name": "stdout",
     "output_type": "stream",
     "text": [
      "run the code\n"
     ]
    }
   ],
   "source": [
    "\n",
    "try:\n",
    "    f=open(\"trx.txt\" , 'w')\n",
    "    f.write(\"i am hacker.\")\n",
    "except Exception as e:\n",
    "    print(\"what will bee exicuted run\")\n",
    "else:\n",
    "    f.close()\n",
    "    print(\"run the code\")"
   ]
  },
  {
   "cell_type": "markdown",
   "id": "4325929e-3627-46f5-86b2-2f4aace1c620",
   "metadata": {},
   "source": [
    "Fanally block:-------------------"
   ]
  },
  {
   "cell_type": "code",
   "execution_count": 8,
   "id": "204242f9-2be6-49f5-b32c-34d240b8173c",
   "metadata": {},
   "outputs": [],
   "source": [
    "import logging"
   ]
  },
  {
   "cell_type": "code",
   "execution_count": 9,
   "id": "39eaff64-7d0b-468e-a13e-d5a0581e8538",
   "metadata": {},
   "outputs": [],
   "source": [
    "logging.basicConfig(filename ='errorr.log' , level=logging.ERROR)"
   ]
  },
  {
   "cell_type": "code",
   "execution_count": 12,
   "id": "f370b582-4a61-4b5c-8ef7-4679df77b163",
   "metadata": {},
   "outputs": [],
   "source": [
    "try:\n",
    "    with open(\"trt.txt\"  , \"w\") as f:\n",
    "        f.write(\"this is file found in the \")\n",
    "except FileNotFoundError as e:\n",
    "    logging.error(\"filenotffound in this wwrite wrong code \" ,format(e))\n",
    "finally:\n",
    "    f.close()"
   ]
  },
  {
   "cell_type": "markdown",
   "id": "3c750cfc-f203-4477-8d50-f76af19dda6a",
   "metadata": {},
   "source": [
    "raise :--"
   ]
  },
  {
   "cell_type": "code",
   "execution_count": 1,
   "id": "a48a15a5-58fa-435a-bd53-39a39b81e7d3",
   "metadata": {},
   "outputs": [
    {
     "name": "stdin",
     "output_type": "stream",
     "text": [
      "Enter your age:-- 23\n"
     ]
    }
   ],
   "source": [
    "age = int(input(\"Enter your age:--\"))"
   ]
  },
  {
   "cell_type": "code",
   "execution_count": 2,
   "id": "277d0f92-2ea3-4991-8359-59a5b450a8ad",
   "metadata": {},
   "outputs": [],
   "source": [
    "class vaalidateage(Exception):\n",
    "    def __init__(self , msg):\n",
    "        self.msg=msg\n",
    "        "
   ]
  },
  {
   "cell_type": "code",
   "execution_count": 3,
   "id": "d4d8b019-b4c8-4607-ba21-96d5eb840296",
   "metadata": {},
   "outputs": [],
   "source": [
    "def validateage(age):\n",
    "    if age < 0:\n",
    "        raise validateage('age is not nagitive')\n",
    "    elif age > 200:\n",
    "        raise validateage(\"age is not very high value\")\n",
    "    else:\n",
    "        print(\"your age is\")\n",
    "    "
   ]
  },
  {
   "cell_type": "code",
   "execution_count": 6,
   "id": "601baf68-deae-4cfd-b1e1-5a057f6bb57c",
   "metadata": {},
   "outputs": [
    {
     "name": "stdin",
     "output_type": "stream",
     "text": [
      "Enter your age:-- 12\n"
     ]
    },
    {
     "name": "stdout",
     "output_type": "stream",
     "text": [
      "your age is\n"
     ]
    }
   ],
   "source": [
    "try:\n",
    "    age = int(input(\"Enter your age:--\"))\n",
    "    validateage(age)\n",
    "except validateage as e:\n",
    "    print(e)"
   ]
  },
  {
   "cell_type": "code",
   "execution_count": null,
   "id": "8b53e444-a07d-41c3-993e-65a80c403444",
   "metadata": {},
   "outputs": [],
   "source": [
    "\n"
   ]
  },
  {
   "cell_type": "code",
   "execution_count": null,
   "id": "ebc1b306-8ebd-4787-9c7e-c8dcb6796539",
   "metadata": {},
   "outputs": [],
   "source": []
  },
  {
   "cell_type": "code",
   "execution_count": null,
   "id": "c3ac4447-9567-4c7c-acaf-70a02ed1f057",
   "metadata": {},
   "outputs": [],
   "source": []
  },
  {
   "cell_type": "markdown",
   "id": "c8872b9f-e9d3-4710-b834-ca2f15897be1",
   "metadata": {},
   "source": [
    "Q5. what are custom Exception in python ? Why do we need Custom Exceptions ? Explain with an example."
   ]
  },
  {
   "cell_type": "markdown",
   "id": "c840eb3e-5416-4e26-a7bd-06213292f54b",
   "metadata": {},
   "source": [
    "ANS :-------\n",
    "CUSTOM EXCEPTION:-- we can define custom exceptions by creating a new class that is derived from the built-in Exception class. Here's the syntax to define custom exceptions, class CustomError(Exception): ... pass try: ... except CustomError: ...\n"
   ]
  },
  {
   "cell_type": "markdown",
   "id": "4a213822-0cf5-49c3-aff9-06fcc8d9026c",
   "metadata": {},
   "source": [
    "WHY NEED CUSTOM EXCEPTION :---\n",
    "tailored to your specific use cases and that you can raise and catch in specific circumstances - can make your code much more readable and robust, and reduce the amount of code you write later to try and figure out what exactly went wrong."
   ]
  },
  {
   "cell_type": "code",
   "execution_count": 12,
   "id": "a37fc564-6335-4936-bbc9-12ed13bf1ba3",
   "metadata": {},
   "outputs": [
    {
     "name": "stdout",
     "output_type": "stream",
     "text": [
      "A New Exception occurred:  9\n"
     ]
    }
   ],
   "source": [
    "class MyError(Exception):\n",
    " \n",
    "    \n",
    "    def __init__(self, value):\n",
    "        self.value = value\n",
    " \n",
    "    \n",
    "    def __str__(self):\n",
    "        return(repr(self.value))\n",
    " \n",
    " \n",
    "try:\n",
    "    raise(MyError(3*3))\n",
    "except MyError as error:\n",
    "    print('A New Exception occurred: ', error.value)"
   ]
  },
  {
   "cell_type": "markdown",
   "id": "0648d617-2d1b-4802-98aa-341304b25cca",
   "metadata": {},
   "source": [
    "Q6. Creat a custom exception class . use this class to handle an exception."
   ]
  },
  {
   "cell_type": "code",
   "execution_count": null,
   "id": "150b076a-381e-48d5-86e6-df0049f30c7a",
   "metadata": {},
   "outputs": [],
   "source": []
  },
  {
   "cell_type": "code",
   "execution_count": null,
   "id": "bbb1a38e-5f53-4cb9-9cc0-95b4af1943f2",
   "metadata": {},
   "outputs": [],
   "source": []
  },
  {
   "cell_type": "code",
   "execution_count": null,
   "id": "2b2d2001-7bd3-46f9-b622-88214d90941f",
   "metadata": {},
   "outputs": [],
   "source": []
  },
  {
   "cell_type": "code",
   "execution_count": null,
   "id": "0420f724-3691-46e7-8c6f-d060c4aac1fa",
   "metadata": {},
   "outputs": [],
   "source": []
  },
  {
   "cell_type": "code",
   "execution_count": null,
   "id": "68ae1d98-2394-4bb3-acb6-2cfcf428ef63",
   "metadata": {},
   "outputs": [],
   "source": []
  },
  {
   "cell_type": "code",
   "execution_count": null,
   "id": "da8652c2-8b16-4680-a948-e4f4eceb2563",
   "metadata": {},
   "outputs": [],
   "source": []
  },
  {
   "cell_type": "code",
   "execution_count": null,
   "id": "a8d9215e-be32-4707-bde5-454e06e37288",
   "metadata": {},
   "outputs": [],
   "source": []
  }
 ],
 "metadata": {
  "kernelspec": {
   "display_name": "Python 3 (ipykernel)",
   "language": "python",
   "name": "python3"
  },
  "language_info": {
   "codemirror_mode": {
    "name": "ipython",
    "version": 3
   },
   "file_extension": ".py",
   "mimetype": "text/x-python",
   "name": "python",
   "nbconvert_exporter": "python",
   "pygments_lexer": "ipython3",
   "version": "3.10.8"
  }
 },
 "nbformat": 4,
 "nbformat_minor": 5
}
